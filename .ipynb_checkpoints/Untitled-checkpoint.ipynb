{
 "cells": [
  {
   "cell_type": "code",
   "execution_count": 1,
   "metadata": {},
   "outputs": [],
   "source": [
    "import pandas as pd"
   ]
  },
  {
   "cell_type": "code",
   "execution_count": 2,
   "metadata": {},
   "outputs": [],
   "source": [
    "df = pd.read_excel(\"india.xlsx\")"
   ]
  },
  {
   "cell_type": "code",
   "execution_count": 13,
   "metadata": {},
   "outputs": [
    {
     "name": "stdout",
     "output_type": "stream",
     "text": [
      "[11.059821, 78.387451]\n",
      "[17.123184, 79.208824]\n",
      "[23.473324, 77.947998]\n",
      "[29.238478, 76.431885]\n",
      "[21.295132, 81.828232]\n",
      "[29.065773, 76.040497]\n",
      "[25.794033, 78.116531]\n",
      "[19.601194, 75.552979]\n",
      "[23.745127, 91.746826]\n",
      "[17.874857, 78.100815]\n",
      "[15.317277, 75.71389]\n",
      "[10.850516, 76.27108]\n",
      "[28.207609, 79.82666]\n",
      "[26.244156, 92.537842]\n",
      "[19.66328, 75.300293]\n",
      "[11.127123, 78.656891]\n",
      "[15.317277, 75.71389]\n",
      "[22.978624, 87.747803]\n",
      "[22.309425, 72.13623]\n",
      "[20.94092, 84.803467]\n",
      "[27.391277, 73.432617]\n",
      "[32.084206, 77.571167]\n"
     ]
    }
   ],
   "source": [
    "for item in df.index:\n",
    "    print([df[\"Latitude\"][item], df[\"Longitude\"][item]])\n",
    "    "
   ]
  },
  {
   "cell_type": "code",
   "execution_count": 14,
   "metadata": {},
   "outputs": [],
   "source": [
    "import folium\n",
    "\n",
    "map = folium.Map(location = [28.6139,77.2090], zoom_start=6, tiles='Stamen Terrain')"
   ]
  },
  {
   "cell_type": "code",
   "execution_count": 16,
   "metadata": {},
   "outputs": [],
   "source": [
    "\n",
    "\n",
    "fg = folium.FeatureGroup(name=\"My Map\")\n",
    "\n",
    "for cords in df.index:\n",
    "    fg.add_child(folium.Marker(location=[df[\"Latitude\"][item],df[\"Longitude\"][item]], popup=\"I am Marker\", icon=folium.Icon(color=\"red\")))\n",
    "    map.add_child(fg)\n",
    "\n",
    "    map.save(\"Map1.html\")\n"
   ]
  },
  {
   "cell_type": "code",
   "execution_count": null,
   "metadata": {},
   "outputs": [],
   "source": []
  }
 ],
 "metadata": {
  "kernelspec": {
   "display_name": "Python 3",
   "language": "python",
   "name": "python3"
  },
  "language_info": {
   "codemirror_mode": {
    "name": "ipython",
    "version": 3
   },
   "file_extension": ".py",
   "mimetype": "text/x-python",
   "name": "python",
   "nbconvert_exporter": "python",
   "pygments_lexer": "ipython3",
   "version": "3.7.6"
  }
 },
 "nbformat": 4,
 "nbformat_minor": 4
}
